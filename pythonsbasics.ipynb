{
  "nbformat": 4,
  "nbformat_minor": 0,
  "metadata": {
    "colab": {
      "provenance": []
    },
    "kernelspec": {
      "name": "python3",
      "display_name": "Python 3"
    },
    "language_info": {
      "name": "python"
    }
  },
  "cells": [
    {
      "cell_type": "code",
      "execution_count": null,
      "metadata": {
        "id": "tB-eeuPNEFrR"
      },
      "outputs": [],
      "source": []
    },
    {
      "cell_type": "markdown",
      "source": [
        "#Pythons basics\n"
      ],
      "metadata": {
        "id": "-OrmMNjHE-FY"
      }
    },
    {
      "cell_type": "markdown",
      "source": [
        "1. What is Python, and why is it popular.\n",
        "  -Python is a high-level, general-purpose programming language known for its readability and versatility. Its popularity stems from its ease of use, extensive libraries, and a large, active community.\n",
        "2. What is an interpreter in Python?\n",
        "  - an interpreter is a program that reads and executes Python code line by line. It translates the high-level code into machine-readable instructions (bytecode) and then executes those instructions. This process happens in real-time, allowing you to see the results of your code immediately.\n",
        "3. What are pre-defined keywords in Python?\n",
        "  -Keywords are reserved words that have special meaning in Python. Examples include if, else, while, for, def, class, etc. They cannot be used as variable names.\n",
        "4. Can keywords be used as variable names?\n",
        "  -No, keywords cannot be used as variable names because they are reserved for Python’s syntax and structure.\n",
        "5. What is mutability in Python?\n",
        "   -Mutability refers to whether an object’s value can be changed after it is\n",
        "  created.\n",
        "6. Why are lists mutable, but tuples are immutable?\n",
        "  -Lists are designed for dynamic data, so you can add, remove, or change items.\n",
        "   Tuples are meant to be fixed collections of items and often used for data integrity, hence they are immutable.\n",
        "7. What is the difference between == and is operators in Python?\n",
        "   - ==: Checks if values are equal.\n",
        "     is: Checks if two variables point to the same object in memory.\n",
        "\n",
        "8. What are logical operators in Python?\n",
        "  - Logical operators are used to combine conditional statements:\n",
        "     and: True if both conditions are true\n",
        "     or: True if at least one condition is true\n",
        "     not: Reverses the result\n",
        "9. What is type casting in Python?\n",
        "   - Type casting is the process of converting one data type into another.     \n",
        "10. What is the difference between implicit and explicit type casting?\n",
        "   - Implicit: Python automatically converts types during operations.\n",
        "  - Explicit: Manually converting types.\n",
        "11. What is the purpose of conditional statements in Python?\n",
        "  - Conditional statements (if, elif, else) allow your program to make decisions and execute code blocks based on certain conditions.\n",
        "12. How does the elif statement work?\n",
        "   - elif (short for \"else if\") lets you check multiple conditions after an initial if. Only the first true condition's block will run.\n",
        "13. What is the difference between for and while loops?\n",
        "  - for loop: Used when you know the number of iterations (e.g., iterating over a list).\n",
        "\n",
        "     while loop: Used when the loop should run as long as a condition is true.\n",
        "14. Describe a scenario where a while loop is more suitable than a for loop\n",
        "\n",
        "  - When you don’t know how many times the loop should run.           "
      ],
      "metadata": {
        "id": "4fRI6Hj9FCuf"
      }
    },
    {
      "cell_type": "code",
      "source": [
        "#Write a Python program to print \"Hello, World!\n",
        "print(\"hello world\")"
      ],
      "metadata": {
        "colab": {
          "base_uri": "https://localhost:8080/"
        },
        "id": "2AELF23WHvKq",
        "outputId": "8367aa2a-3b8b-4170-bf90-b22234c2b7b7"
      },
      "execution_count": 2,
      "outputs": [
        {
          "output_type": "stream",
          "name": "stdout",
          "text": [
            "hello world\n"
          ]
        }
      ]
    },
    {
      "cell_type": "code",
      "source": [
        "# Write a Python program that displays your name and age\n",
        "name=\"bhavishya\"\n",
        "age=\"21\"\n",
        "print(\"name\" , name)\n",
        "print(\"Age:\" ,age)"
      ],
      "metadata": {
        "colab": {
          "base_uri": "https://localhost:8080/"
        },
        "id": "b6OjjZLEIGdu",
        "outputId": "40857f82-e851-419f-bfc8-2c49fa022cab"
      },
      "execution_count": 4,
      "outputs": [
        {
          "output_type": "stream",
          "name": "stdout",
          "text": [
            "name bhavishya\n",
            "Age: 21\n"
          ]
        }
      ]
    },
    {
      "cell_type": "code",
      "source": [
        "#Write code to print all the pre-defined keywords in Python using the keyword library\n",
        "import keyword\n",
        "print(\"Python Keywords:\")\n",
        "print(keyword.kwlist)"
      ],
      "metadata": {
        "colab": {
          "base_uri": "https://localhost:8080/"
        },
        "id": "ot-QRJhyIdMA",
        "outputId": "164067ab-f37d-4388-9682-29c25114b31c"
      },
      "execution_count": 7,
      "outputs": [
        {
          "output_type": "stream",
          "name": "stdout",
          "text": [
            "Python Keywords:\n",
            "['False', 'None', 'True', 'and', 'as', 'assert', 'async', 'await', 'break', 'class', 'continue', 'def', 'del', 'elif', 'else', 'except', 'finally', 'for', 'from', 'global', 'if', 'import', 'in', 'is', 'lambda', 'nonlocal', 'not', 'or', 'pass', 'raise', 'return', 'try', 'while', 'with', 'yield']\n"
          ]
        }
      ]
    },
    {
      "cell_type": "code",
      "source": [
        "# Write a program that checks if a given word is a Python keyword.\n",
        "import keyword\n",
        "\n",
        "word = input(\"Enter a word: \")\n",
        "if keyword.iskeyword(word):\n",
        "    print(f\"'{word}' is a Python keyword.\")\n",
        "else:\n",
        "    print(f\"'{word}' is not a Python keyword.\")"
      ],
      "metadata": {
        "colab": {
          "base_uri": "https://localhost:8080/"
        },
        "id": "BA8qzuSVIrCd",
        "outputId": "9682ca30-b148-4434-a488-997d3c87f186"
      },
      "execution_count": 8,
      "outputs": [
        {
          "output_type": "stream",
          "name": "stdout",
          "text": [
            "Enter a word: True\n",
            "'True' is a Python keyword.\n"
          ]
        }
      ]
    },
    {
      "cell_type": "code",
      "source": [
        "#. Create a list and tuple in Python, and demonstrate how attempting to change an element works differently for each.\n",
        "my_list = [10, 20, 30]\n",
        "my_tuple = (10, 20, 30)\n",
        "\n",
        "# Modifying an element in the list\n",
        "print(\"Original list:\", my_list)\n",
        "my_list[1] = 99\n",
        "print(\"Modified list:\", my_list)\n",
        "\n",
        "# Attempting to modify an element in the tuple\n",
        "print(\"Original tuple:\", my_tuple)\n",
        "try:\n",
        "    my_tuple[1] = 99  # This will raise a TypeError\n",
        "except TypeError as e:\n",
        "    print(\"Error when modifying tuple:\", e)"
      ],
      "metadata": {
        "colab": {
          "base_uri": "https://localhost:8080/"
        },
        "id": "4JMAzJUkI5Pe",
        "outputId": "42c08346-6f47-4b2f-ee78-61ad44273725"
      },
      "execution_count": 9,
      "outputs": [
        {
          "output_type": "stream",
          "name": "stdout",
          "text": [
            "Original list: [10, 20, 30]\n",
            "Modified list: [10, 99, 30]\n",
            "Original tuple: (10, 20, 30)\n",
            "Error when modifying tuple: 'tuple' object does not support item assignment\n"
          ]
        }
      ]
    },
    {
      "cell_type": "code",
      "source": [
        "#6. Write a function to demonstrate the behavior of mutable and immutable arguments\n",
        "def modify_values(immutable, mutable):\n",
        "    immutable += 10\n",
        "    mutable.append(100)\n",
        "    print(\"Inside function -> immutable:\", immutable, \", mutable:\", mutable)\n",
        "\n",
        "a = 5\n",
        "b = [1, 2, 3]\n",
        "modify_values(a, b)\n",
        "print(\"Outside function -> immutable:\", a, \", mutable:\", b)"
      ],
      "metadata": {
        "colab": {
          "base_uri": "https://localhost:8080/"
        },
        "id": "wPPVrJO3JOJL",
        "outputId": "5a08e54c-7499-4d64-c9b5-e5e78e5b73f6"
      },
      "execution_count": 10,
      "outputs": [
        {
          "output_type": "stream",
          "name": "stdout",
          "text": [
            "Inside function -> immutable: 15 , mutable: [1, 2, 3, 100]\n",
            "Outside function -> immutable: 5 , mutable: [1, 2, 3, 100]\n"
          ]
        }
      ]
    },
    {
      "cell_type": "code",
      "source": [
        "# Write a program that performs basic arithmetic operations on two user-input numbers\n",
        "a = float(input(\"Enter first number: \"))\n",
        "b = float(input(\"Enter second number: \"))\n",
        "\n",
        "print(\"Addition:\", a + b)\n",
        "print(\"Subtraction:\", a - b)\n",
        "print(\"Multiplication:\", a * b)\n",
        "print(\"Division:\", a / b)"
      ],
      "metadata": {
        "colab": {
          "base_uri": "https://localhost:8080/"
        },
        "id": "n75Ju6oqJXpO",
        "outputId": "41baca9c-245b-4151-9f4c-3b89e5fa12ac"
      },
      "execution_count": 11,
      "outputs": [
        {
          "output_type": "stream",
          "name": "stdout",
          "text": [
            "Enter first number: 4\n",
            "Enter second number: 3\n",
            "Addition: 7.0\n",
            "Subtraction: 1.0\n",
            "Multiplication: 12.0\n",
            "Division: 1.3333333333333333\n"
          ]
        }
      ]
    },
    {
      "cell_type": "code",
      "source": [
        "# Write a program to demonstrate the use of logical operators.\n",
        "x = 10\n",
        "y = 20\n",
        "\n",
        "print(x > 5 and y > 15)   # True\n",
        "print(x > 15 or y > 15)   # True\n",
        "print(not(x > 15))        # True\n"
      ],
      "metadata": {
        "colab": {
          "base_uri": "https://localhost:8080/"
        },
        "id": "RK1DRIrFJh0I",
        "outputId": "176b3865-6cd4-4d18-f749-0c84e4c02c8a"
      },
      "execution_count": 12,
      "outputs": [
        {
          "output_type": "stream",
          "name": "stdout",
          "text": [
            "True\n",
            "True\n",
            "True\n"
          ]
        }
      ]
    },
    {
      "cell_type": "code",
      "source": [
        "# Write a Python program to convert user input from string to integer, float, and boolean types.\n",
        "user_input = input(\"Enter something: \")\n",
        "\n",
        "int_value = int(user_input)\n",
        "float_value = float(user_input)\n",
        "bool_value = bool(user_input)\n",
        "\n",
        "print(\"As Integer:\", int_value)\n",
        "print(\"As Float:\", float_value)\n",
        "print(\"As Boolean:\", bool_value)\n"
      ],
      "metadata": {
        "colab": {
          "base_uri": "https://localhost:8080/"
        },
        "id": "gN6bBG8-Jpob",
        "outputId": "67bb5c84-1920-4113-aa5f-145e9e5be91c"
      },
      "execution_count": 13,
      "outputs": [
        {
          "output_type": "stream",
          "name": "stdout",
          "text": [
            "Enter something: 2\n",
            "As Integer: 2\n",
            "As Float: 2.0\n",
            "As Boolean: True\n"
          ]
        }
      ]
    },
    {
      "cell_type": "code",
      "source": [
        "# Write code to demonstrate type casting with list element\n",
        "\n",
        "str_list = ['1', '2', '3']\n",
        "int_list = [int(i) for i in str_list]\n",
        "print(\"Converted list:\", int_list)\n"
      ],
      "metadata": {
        "colab": {
          "base_uri": "https://localhost:8080/"
        },
        "id": "V2u67-45J204",
        "outputId": "340f748c-d0ad-4bc2-bcb3-94fab251ac34"
      },
      "execution_count": 14,
      "outputs": [
        {
          "output_type": "stream",
          "name": "stdout",
          "text": [
            "Converted list: [1, 2, 3]\n"
          ]
        }
      ]
    },
    {
      "cell_type": "code",
      "source": [
        "# Write a program that checks if a number is positive, negative, or zero\n",
        "num = float(input(\"Enter a number: \"))\n",
        "\n",
        "if num > 0:\n",
        "    print(\"Positive\")\n",
        "elif num < 0:\n",
        "    print(\"Negative\")\n",
        "else:\n",
        "    print(\"Zero\")\n"
      ],
      "metadata": {
        "colab": {
          "base_uri": "https://localhost:8080/"
        },
        "id": "6LszgCKhKH6D",
        "outputId": "0b69aa6a-b1b8-4c40-8ede-67dc44b430f0"
      },
      "execution_count": 15,
      "outputs": [
        {
          "output_type": "stream",
          "name": "stdout",
          "text": [
            "Enter a number: 0\n",
            "Zero\n"
          ]
        }
      ]
    },
    {
      "cell_type": "code",
      "source": [
        "#. Write a for loop to print numbers from 1 to 10.\n",
        "i=0\n",
        "for i in range(1,11):\n",
        "  print(i)\n",
        ""
      ],
      "metadata": {
        "colab": {
          "base_uri": "https://localhost:8080/"
        },
        "id": "eZKIOKw1KVvK",
        "outputId": "9582d2a0-bdfe-4ec6-e2ab-b5e94a59381c"
      },
      "execution_count": 17,
      "outputs": [
        {
          "output_type": "stream",
          "name": "stdout",
          "text": [
            "1\n",
            "2\n",
            "3\n",
            "4\n",
            "5\n",
            "6\n",
            "7\n",
            "8\n",
            "9\n",
            "10\n"
          ]
        }
      ]
    },
    {
      "cell_type": "code",
      "source": [
        "# Write a Python program to find the sum of all even numbers between 1 and 50.\n",
        "total = 0\n",
        "for i in range(2, 51, 2):\n",
        "    total += i\n",
        "print(\"Sum of even numbers from 1 to 50:\", total)\n"
      ],
      "metadata": {
        "colab": {
          "base_uri": "https://localhost:8080/"
        },
        "id": "jCvmNJAuKjTL",
        "outputId": "9c9ea3aa-dec5-4088-c81c-b64fd550c643"
      },
      "execution_count": 18,
      "outputs": [
        {
          "output_type": "stream",
          "name": "stdout",
          "text": [
            "Sum of even numbers from 1 to 50: 650\n"
          ]
        }
      ]
    },
    {
      "cell_type": "code",
      "source": [
        "# Write a program to reverse a string using a while loop.\n",
        "s = input(\"Enter a string: \")\n",
        "reversed_s = \"\"\n",
        "i = len(s) - 1\n",
        "\n",
        "while i >= 0:\n",
        "    reversed_s += s[i]\n",
        "    i -= 1\n",
        "\n",
        "print(\"Reversed string:\", reversed_s)\n"
      ],
      "metadata": {
        "colab": {
          "base_uri": "https://localhost:8080/"
        },
        "id": "yGAqyyeDK0W9",
        "outputId": "da5f32ec-e167-473f-a30b-4a55b21c9654"
      },
      "execution_count": 19,
      "outputs": [
        {
          "output_type": "stream",
          "name": "stdout",
          "text": [
            "Enter a string: bhavihsya\n",
            "Reversed string: ayshivahb\n"
          ]
        }
      ]
    },
    {
      "cell_type": "code",
      "source": [
        "#. Write a Python program to calculate the factorial of a number provided by the user using a while loop\n",
        "n = int(input(\"Enter a number: \"))\n",
        "factorial = 1\n",
        "i = 1\n",
        "\n",
        "while i <= n:\n",
        "    factorial *= i\n",
        "    i += 1\n",
        "\n",
        "print(\"Factorial of\", n, \"is\", factorial)\n"
      ],
      "metadata": {
        "colab": {
          "base_uri": "https://localhost:8080/"
        },
        "id": "5AbgekQmK-Bu",
        "outputId": "4bc061b2-0e6b-4958-b7e5-63f28e7f15cc"
      },
      "execution_count": 20,
      "outputs": [
        {
          "output_type": "stream",
          "name": "stdout",
          "text": [
            "Enter a number: 6\n",
            "Factorial of 6 is 720\n"
          ]
        }
      ]
    },
    {
      "cell_type": "code",
      "source": [],
      "metadata": {
        "id": "su5Z83_qLhM4"
      },
      "execution_count": null,
      "outputs": []
    }
  ]
}